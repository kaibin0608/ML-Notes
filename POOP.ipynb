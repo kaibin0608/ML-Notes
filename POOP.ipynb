{
 "cells": [
  {
   "cell_type": "markdown",
   "id": "de775eac",
   "metadata": {},
   "source": [
    "# Python object oriented programming"
   ]
  },
  {
   "cell_type": "code",
   "execution_count": null,
   "id": "69c504b6",
   "metadata": {},
   "outputs": [],
   "source": [
    "class Car:\n",
    "    pass # placeholder, will add logic later"
   ]
  },
  {
   "cell_type": "code",
   "execution_count": null,
   "id": "56912789",
   "metadata": {},
   "outputs": [],
   "source": [
    "# Car.py\n",
    "\n",
    "class Car:\n",
    "    def __init__(self,make,model,year,color):#this is the constructor\n",
    "        # attribute\n",
    "        self.make = make\n",
    "        self.model = model\n",
    "        self.year = year\n",
    "        self.color = color\n",
    "\n",
    "    # object can also have methods\n",
    "    def drive(self): # self refers to the object that is using this method\n",
    "        print(\"This car is driving\")\n",
    "\n",
    "    def stop(self):\n",
    "        print(\"This car is stopped\")\n",
    "\n",
    "    "
   ]
  },
  {
   "cell_type": "code",
   "execution_count": null,
   "id": "18ca6e59",
   "metadata": {},
   "outputs": [],
   "source": [
    "# main.py\n",
    "from car import Car\n",
    "car_1 =Car(\"Chevy\",\"Corvette\",2021,\"blue\")\n",
    "\n",
    "print(car_1.make)\n",
    "print(car_1.model)\n",
    "print(car_1.year)\n",
    "print(car_1.color)"
   ]
  }
 ],
 "metadata": {
  "kernelspec": {
   "display_name": "base",
   "language": "python",
   "name": "python3"
  },
  "language_info": {
   "name": "python",
   "version": "3.11.9"
  }
 },
 "nbformat": 4,
 "nbformat_minor": 5
}
