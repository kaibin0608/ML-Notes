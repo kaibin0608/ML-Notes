{
 "cells": [
  {
   "cell_type": "markdown",
   "id": "de775eac",
   "metadata": {},
   "source": [
    "# Python object oriented programming"
   ]
  },
  {
   "cell_type": "code",
   "execution_count": null,
   "id": "69c504b6",
   "metadata": {},
   "outputs": [],
   "source": []
  },
  {
   "cell_type": "code",
   "execution_count": null,
   "id": "56912789",
   "metadata": {},
   "outputs": [],
   "source": []
  }
 ],
 "metadata": {
  "language_info": {
   "name": "python"
  }
 },
 "nbformat": 4,
 "nbformat_minor": 5
}
