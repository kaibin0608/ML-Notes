{
 "cells": [
  {
   "cell_type": "markdown",
   "id": "f5d3ce27",
   "metadata": {},
   "source": [
    "# Introduction to Application Programming Interfaces (APIs) in Python"
   ]
  },
  {
   "cell_type": "markdown",
   "id": "257eb0c0",
   "metadata": {},
   "source": [
    "## Making API requests with Python\n",
    "\n",
    "This chapter introduces Web APIs, showing you how to make your first API requests with the requests Python package. You’ll learn about the key components of an API request, HTTP verbs, and how to build URLs and send & receive data. We’ll also cover headers and status codes, using a music catalog API for practical examples. By the end of this chapter you'll be able to confidently integrate a simple REST API with Python."
   ]
  },
  {
   "cell_type": "markdown",
   "id": "4f7c6ecb",
   "metadata": {},
   "source": [
    "### What is an API?\n",
    "\n",
    "- Application Programming Interface\n",
    "- Set of communication rules and abilities\n",
    "- Enables interactions between software applications\n",
    "\n"
   ]
  }
 ],
 "metadata": {
  "language_info": {
   "name": "python"
  }
 },
 "nbformat": 4,
 "nbformat_minor": 5
}
