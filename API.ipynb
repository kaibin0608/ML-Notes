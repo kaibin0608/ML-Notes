{
 "cells": [
  {
   "cell_type": "markdown",
   "id": "f5d3ce27",
   "metadata": {},
   "source": [
    "# Introduction to Application Programming Interfaces (APIs) in Python"
   ]
  },
  {
   "cell_type": "markdown",
   "id": "257eb0c0",
   "metadata": {},
   "source": [
    "## Making API requests with Python\n",
    "\n",
    "This chapter introduces Web APIs, showing you how to make your first API requests with the requests Python package. You’ll learn about the key components of an API request, HTTP verbs, and how to build URLs and send & receive data. We’ll also cover headers and status codes, using a music catalog API for practical examples. By the end of this chapter you'll be able to confidently integrate a simple REST API with Python."
   ]
  },
  {
   "cell_type": "markdown",
   "id": "4f7c6ecb",
   "metadata": {},
   "source": [
    "### What is an API?\n",
    "\n",
    "- Application Programming Interface\n",
    "- Set of communication rules and abilities for two systems to communicate with each other.\n",
    "- Enables interactions between software applications to exchange or manipulate data.\n",
    "\n",
    "#### Web APIs, clients and servers\n",
    "\n",
    "- Web APIs communicate over the internet using HTTP\n",
    "- Client sends a request message to a Server\n",
    "- Server returns a response message to the Client\n",
    "- request/response cycle\n",
    "\n",
    "#### Tpes of Web APIs\n",
    "\n",
    "- **SOAP**\n",
    "    - Focus on strict and formal API design\n",
    "    - Enterprise applications\n",
    "- **REST** \n",
    "    - Focus on simplicity & scalability\n",
    "    - Most common API architecture\n",
    "- **GraphQL**\n",
    "    - Focus on flexibility\n",
    "    - Optimized for performance\n",
    "\n"
   ]
  }
 ],
 "metadata": {
  "language_info": {
   "name": "python"
  }
 },
 "nbformat": 4,
 "nbformat_minor": 5
}
